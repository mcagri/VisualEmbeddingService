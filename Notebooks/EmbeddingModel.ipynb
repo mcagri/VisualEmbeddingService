{
 "cells": [
  {
   "cell_type": "code",
   "outputs": [],
   "source": [
    "import open_clip\n",
    "open_clip.list_pretrained()"
   ],
   "metadata": {
    "collapsed": false
   },
   "id": "e7f440f8c29a72b6",
   "execution_count": null
  },
  {
   "cell_type": "code",
   "outputs": [],
   "source": [
    "model, _, transform = open_clip.create_model_and_transforms(\n",
    "    model_name=\"coca_ViT-L-14\",\n",
    "  pretrained=\"laion2b_s13b_b90k\"\n",
    ")"
   ],
   "metadata": {
    "collapsed": false,
    "ExecuteTime": {
     "end_time": "2024-01-15T21:07:40.243476841Z",
     "start_time": "2024-01-15T21:07:34.417503193Z"
    }
   },
   "id": "51fcd386f9ec99c0",
   "execution_count": 70
  },
  {
   "cell_type": "code",
   "outputs": [],
   "source": [
    "from PIL import Image\n",
    "import requests\n",
    "from io import BytesIO\n",
    "import torch.nn.functional as F\n",
    "\n",
    "response = requests.get(\"https://i.etsystatic.com/5830090/r/il/4b85e4/3358309061/il_1140xN.3358309061_46rp.jpg\")\n",
    "img = Image.open(BytesIO(response.content))\n",
    "im = transform(img).unsqueeze(0)\n",
    "output = model(im)\n",
    "F.normalize(output['image_features']).tolist()[0]"
   ],
   "metadata": {
    "collapsed": false
   },
   "id": "ed68c25ab37cff2c",
   "execution_count": null
  }
 ],
 "metadata": {
  "kernelspec": {
   "display_name": "Python 3",
   "language": "python",
   "name": "python3"
  },
  "language_info": {
   "codemirror_mode": {
    "name": "ipython",
    "version": 2
   },
   "file_extension": ".py",
   "mimetype": "text/x-python",
   "name": "python",
   "nbconvert_exporter": "python",
   "pygments_lexer": "ipython2",
   "version": "2.7.6"
  }
 },
 "nbformat": 4,
 "nbformat_minor": 5
}
